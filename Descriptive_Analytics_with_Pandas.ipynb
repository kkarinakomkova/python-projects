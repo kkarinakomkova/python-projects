{
  "nbformat": 4,
  "nbformat_minor": 0,
  "metadata": {
    "colab": {
      "provenance": [],
      "include_colab_link": true
    },
    "kernelspec": {
      "name": "python3",
      "display_name": "Python 3"
    },
    "language_info": {
      "name": "python"
    }
  },
  "cells": [
    {
      "cell_type": "markdown",
      "metadata": {
        "id": "view-in-github",
        "colab_type": "text"
      },
      "source": [
        "<a href=\"https://colab.research.google.com/github/kkarinakomkova/python-projects/blob/main/Descriptive_Analytics_with_Pandas.ipynb\" target=\"_parent\"><img src=\"https://colab.research.google.com/assets/colab-badge.svg\" alt=\"Open In Colab\"/></a>"
      ]
    },
    {
      "cell_type": "code",
      "execution_count": null,
      "metadata": {
        "colab": {
          "base_uri": "https://localhost:8080/"
        },
        "id": "MpvHI4MlBDQg",
        "outputId": "0c92eb2c-44c6-4e4b-a6f8-77c30dd02c79"
      },
      "outputs": [
        {
          "output_type": "stream",
          "name": "stdout",
          "text": [
            "Mounted at /content/drive\n",
            "Перші 5 рядків датасету:    Order_Date      Time  Aging  Customer_Id Gender Device_Type  \\\n",
            "0  2018-01-01  10:11:40    5.0        29317   Male         Web   \n",
            "1  2018-01-01  22:30:44    7.0        42270   Male         Web   \n",
            "2  2018-01-01  21:55:31   10.0        14563   Male         Web   \n",
            "3  2018-01-01  13:57:15    9.0        58601   Male         Web   \n",
            "4  2018-01-01  15:17:41    2.0        48342   Male         Web   \n",
            "\n",
            "  Customer_Login_type    Product_Category                 Product  Sales  \\\n",
            "0              Member  Auto & Accessories       Car Media Players  140.0   \n",
            "1              Member  Auto & Accessories  Car Pillow & Neck Rest  231.0   \n",
            "2              Member  Auto & Accessories            Car Speakers  211.0   \n",
            "3              Member  Auto & Accessories                    Tyre  250.0   \n",
            "4              Member  Auto & Accessories                    Tyre  250.0   \n",
            "\n",
            "   Quantity  Discount  Profit  Shipping_Cost Order_Priority Payment_method  \n",
            "0       4.0       0.3    43.2            4.3         Medium       e_wallet  \n",
            "1       5.0       0.1   139.5           13.9           High    money_order  \n",
            "2       5.0       0.1   120.5           12.0           High    credit_card  \n",
            "3       4.0       0.2   150.0           15.0       Critical    credit_card  \n",
            "4       1.0       0.1   165.0           16.5           High    credit_card  \n"
          ]
        }
      ],
      "source": [
        "from google.colab import drive\n",
        "drive.mount('/content/drive')\n",
        "\n",
        "import pandas as pd\n",
        "import os\n",
        "\n",
        "file_path = '/content/drive/MyDrive/homework/sales_data.csv'\n",
        "sales_data = pd.read_csv(file_path)\n",
        "\n",
        "# перші 5 рядків основного датасету\n",
        "print(f\"Перші 5 рядків датасету: {sales_data.head()}\")"
      ]
    },
    {
      "cell_type": "markdown",
      "source": [
        "# Data Transformation"
      ],
      "metadata": {
        "id": "IxHEqx5xBWIh"
      }
    },
    {
      "cell_type": "code",
      "source": [
        "# перетворюю Order_Date на datetime type\n",
        "sales_data[\"Order_Date\"] = pd.to_datetime(sales_data[\"Order_Date\"], format=\"%Y-%m-%d\")\n",
        "\n",
        "# видаляю стовпець Time\n",
        "if \"Time\" in sales_data.columns:\n",
        "    sales_data = sales_data.drop(\"Time\", axis=1)\n",
        "\n",
        "# створюю новий стовпець Sales amount\n",
        "sales_data[\"Sales_amount\"] = sales_data[\"Sales\"] * sales_data[\"Quantity\"]\n",
        "\n",
        "# перетворюю дані у колонці Gender: Male -> M, Female -> F\n",
        "def gender_mf(gender):\n",
        "    if gender == \"Male\":\n",
        "        return \"M\"\n",
        "    elif gender == \"Female\":\n",
        "        return \"F\"\n",
        "\n",
        "sales_data[\"Gender\"] = sales_data[\"Gender\"].apply(gender_mf)\n",
        "\n",
        "# переводжу назви стовпців у нижній регістр\n",
        "sales_data.columns = sales_data.columns.str.lower()"
      ],
      "metadata": {
        "id": "d6R7ns4tBYb8"
      },
      "execution_count": null,
      "outputs": []
    },
    {
      "cell_type": "markdown",
      "source": [
        "# Descriptive Analytics"
      ],
      "metadata": {
        "id": "IqmfwSXXBctu"
      }
    },
    {
      "cell_type": "markdown",
      "source": [
        "###### What is the maximum and minimum sales amount (sales_amount)? What is the total, average, and median of this metric?"
      ],
      "metadata": {
        "id": "b0vNlL97BlQk"
      }
    },
    {
      "cell_type": "code",
      "source": [
        "sales_amount = sales_data[\"sales_amount\"]\n",
        "\n",
        "print(f\"Максимальна ціна: {sales_amount.max()}\")\n",
        "print(f\"Мінімальна ціна: {sales_amount.min()}\")\n",
        "print(f\"Загальна ціна: {sales_amount.sum()}\")\n",
        "print(f\"Середня ціна: {sales_amount.mean()}\")\n",
        "print(f\"Медіана ціни: {sales_amount.median()}\")"
      ],
      "metadata": {
        "colab": {
          "base_uri": "https://localhost:8080/"
        },
        "id": "nfmAJvSGBhOg",
        "outputId": "289a82dd-a8eb-455d-8346-86aebea1c316"
      },
      "execution_count": null,
      "outputs": [
        {
          "output_type": "stream",
          "name": "stdout",
          "text": [
            "Максимальна ціна: 1250.0\n",
            "Мінімальна ціна: 33.0\n",
            "Загальна ціна: 19635960.0\n",
            "Середня ціна: 382.86427359759784\n",
            "Медіана ціни: 248.0\n"
          ]
        }
      ]
    },
    {
      "cell_type": "markdown",
      "source": [
        "###### How many product categories does the company sell? What is the popularity of each category?"
      ],
      "metadata": {
        "id": "KaMG5CeiBpmP"
      }
    },
    {
      "cell_type": "code",
      "source": [
        "print(f\"Категорії продуктів: {sales_data['product_category'].unique()}\")\n",
        "print(f\"Кількість категорій продуктів: {sales_data['product_category'].nunique()}\")\n",
        "print(f\"Популярність категорій продуктів: \\n{sales_data['product_category'].value_counts()}\")"
      ],
      "metadata": {
        "colab": {
          "base_uri": "https://localhost:8080/"
        },
        "id": "pHyL7Md2BsOp",
        "outputId": "80fb916e-53be-48a1-87cf-0e714b143847"
      },
      "execution_count": null,
      "outputs": [
        {
          "output_type": "stream",
          "name": "stdout",
          "text": [
            "Категорії продуктів: ['Auto & Accessories' 'Fashion' 'Electronic' 'Home & Furniture']\n",
            "Кількість категорій продуктів: 4\n",
            "Популярність категорій продуктів: \n",
            "product_category\n",
            "Fashion               25646\n",
            "Home & Furniture      15438\n",
            "Auto & Accessories     7505\n",
            "Electronic             2701\n",
            "Name: count, dtype: int64\n"
          ]
        }
      ]
    },
    {
      "cell_type": "markdown",
      "source": [
        "###### Name the top 5 most popular products"
      ],
      "metadata": {
        "id": "hz5JOoa1Bw20"
      }
    },
    {
      "cell_type": "code",
      "source": [
        "print(f\"Найпопулярніші продукти: \\n{sales_data['product'].value_counts().head(5)}\")"
      ],
      "metadata": {
        "colab": {
          "base_uri": "https://localhost:8080/"
        },
        "id": "4IxgymOSBzx7",
        "outputId": "3dc809a7-c5d4-4210-98a8-a7c273256150"
      },
      "execution_count": null,
      "outputs": [
        {
          "output_type": "stream",
          "name": "stdout",
          "text": [
            "Найпопулярніші продукти: \n",
            "product\n",
            "Suits           2332\n",
            "Jeans           2332\n",
            "T - Shirts      2332\n",
            "Fossil Watch    2332\n",
            "Shirts          2332\n",
            "Name: count, dtype: int64\n"
          ]
        }
      ]
    },
    {
      "cell_type": "markdown",
      "source": [
        "###### Who purchases more often, women or men?"
      ],
      "metadata": {
        "id": "oQRfBWWTB3Zs"
      }
    },
    {
      "cell_type": "code",
      "source": [
        "print(f\"Хто купує частіше: {sales_data['gender'].value_counts().idxmax()}\")"
      ],
      "metadata": {
        "colab": {
          "base_uri": "https://localhost:8080/"
        },
        "id": "SmA8jFfGB-OQ",
        "outputId": "66c3c916-8bf0-4f14-f0f0-2eedbe7192e5"
      },
      "execution_count": null,
      "outputs": [
        {
          "output_type": "stream",
          "name": "stdout",
          "text": [
            "Хто купує частіше: M\n"
          ]
        }
      ]
    },
    {
      "cell_type": "markdown",
      "source": [
        "###### The most popular payment method"
      ],
      "metadata": {
        "id": "5R4mBriLCol6"
      }
    },
    {
      "cell_type": "code",
      "source": [
        "print(f\"Найбільш популярний метод оплати: {sales_data['payment_method'].value_counts().idxmax()}\")"
      ],
      "metadata": {
        "colab": {
          "base_uri": "https://localhost:8080/"
        },
        "id": "8SRaEEPfCuFm",
        "outputId": "508e3d2d-45ad-4f52-ed76-68d5942990c5"
      },
      "execution_count": null,
      "outputs": [
        {
          "output_type": "stream",
          "name": "stdout",
          "text": [
            "Найбільш популярний метод оплати: credit_card\n"
          ]
        }
      ]
    }
  ]
}
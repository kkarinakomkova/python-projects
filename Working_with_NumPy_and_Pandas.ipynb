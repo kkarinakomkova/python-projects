{
  "nbformat": 4,
  "nbformat_minor": 0,
  "metadata": {
    "colab": {
      "provenance": [],
      "authorship_tag": "ABX9TyMFgNWevvlcSSyFweZiidKj",
      "include_colab_link": true
    },
    "kernelspec": {
      "name": "python3",
      "display_name": "Python 3"
    },
    "language_info": {
      "name": "python"
    }
  },
  "cells": [
    {
      "cell_type": "markdown",
      "metadata": {
        "id": "view-in-github",
        "colab_type": "text"
      },
      "source": [
        "<a href=\"https://colab.research.google.com/github/kkarinakomkova/python-projects/blob/main/Working_with_NumPy_and_Pandas.ipynb\" target=\"_parent\"><img src=\"https://colab.research.google.com/assets/colab-badge.svg\" alt=\"Open In Colab\"/></a>"
      ]
    },
    {
      "cell_type": "code",
      "execution_count": null,
      "metadata": {
        "colab": {
          "base_uri": "https://localhost:8080/"
        },
        "id": "TLNuOJA-oaZR",
        "outputId": "44f93bca-bc20-4dbd-8e03-77291c5fc3e1"
      },
      "outputs": [
        {
          "output_type": "stream",
          "name": "stdout",
          "text": [
            "Drive already mounted at /content/drive; to attempt to forcibly remount, call drive.mount(\"/content/drive\", force_remount=True).\n"
          ]
        }
      ],
      "source": [
        "from google.colab import drive\n",
        "drive.mount('/content/drive')\n",
        "\n",
        "import pandas as pd\n",
        "import os\n",
        "\n",
        "file_path = '/content/drive/MyDrive/homework/adult.csv'\n",
        "adult = pd.read_csv(file_path)\n",
        "\n",
        "# Видаляю рядки з ?\n",
        "adult = adult.replace('?', pd.NA) # замінюю ? на NaN\n",
        "adult = adult.dropna() # видаляю всі відсутні значення\n",
        "\n",
        "# Переводжу salary у тип категоріальних даних\n",
        "adult[\"salary\"] = adult[\"salary\"].astype('category')"
      ]
    },
    {
      "cell_type": "markdown",
      "source": [
        "## Gender Counts"
      ],
      "metadata": {
        "id": "JZmKOmXws842"
      }
    },
    {
      "cell_type": "code",
      "source": [
        "# Кількість жінок і чоловіків\n",
        "gender_counts = adult[\"sex\"].value_counts()\n",
        "print(gender_counts)"
      ],
      "metadata": {
        "colab": {
          "base_uri": "https://localhost:8080/"
        },
        "id": "YYZOH6xRs_mg",
        "outputId": "e84bd101-7e56-4a40-c06c-672b64a451d2"
      },
      "execution_count": null,
      "outputs": [
        {
          "output_type": "stream",
          "name": "stdout",
          "text": [
            "sex\n",
            "Male      20380\n",
            "Female     9782\n",
            "Name: count, dtype: int64\n"
          ]
        }
      ]
    },
    {
      "cell_type": "markdown",
      "source": [
        "## The average age of men"
      ],
      "metadata": {
        "id": "KJWXUVkctPYB"
      }
    },
    {
      "cell_type": "code",
      "source": [
        "average_age_men = adult[adult[\"sex\"] == \"Male\"][\"age\"].mean().round(2)\n",
        "print(f\"The average age of men is {average_age_men}%\")"
      ],
      "metadata": {
        "colab": {
          "base_uri": "https://localhost:8080/"
        },
        "id": "fQlKuRCcqgqd",
        "outputId": "47880648-02fc-4bc8-c311-4e70d6aec11a"
      },
      "execution_count": null,
      "outputs": [
        {
          "output_type": "stream",
          "name": "stdout",
          "text": [
            "The average age of men is 39.18%\n"
          ]
        }
      ]
    },
    {
      "cell_type": "markdown",
      "source": [
        "## The percentage of people from Poland"
      ],
      "metadata": {
        "id": "cAVWzfFSu9X-"
      }
    },
    {
      "cell_type": "code",
      "source": [
        "# Кількість людей з Польщі\n",
        "count_polish = adult[adult[\"native-country\"] == \"Poland\"].shape[0]\n",
        "\n",
        "# Загальна кількість людей\n",
        "total_people = adult.shape[0]\n",
        "\n",
        "# Відсоток людей з Польщі\n",
        "percentage_of_polish = round((count_polish / total_people) * 100, 2)\n",
        "\n",
        "print(f\"Percentage of Polish is {percentage_of_polish}%\")\n"
      ],
      "metadata": {
        "colab": {
          "base_uri": "https://localhost:8080/"
        },
        "id": "0w1EGB9WvCDs",
        "outputId": "b72920bb-310f-45f4-a103-aaefc471ee7f"
      },
      "execution_count": null,
      "outputs": [
        {
          "output_type": "stream",
          "name": "stdout",
          "text": [
            "Percentage of Polish is 0.19%\n"
          ]
        }
      ]
    },
    {
      "cell_type": "markdown",
      "source": [
        "## People without higher education but earning > 50K"
      ],
      "metadata": {
        "id": "po1GiswCxAvI"
      }
    },
    {
      "cell_type": "code",
      "source": [
        "people_without_highter_education = adult[(~adult[\"education\"].isin([\"Bachelors\", \"Prof-school\", \"Assoc-acdm\", \"Assoc-voc\", \"Masters\", \"Doctorate\"]) & (adult['salary'] == \">50K\"))].value_counts().sum()\n",
        "print(f\"People without higher education but earning > 50K is {people_without_highter_education}\")"
      ],
      "metadata": {
        "colab": {
          "base_uri": "https://localhost:8080/"
        },
        "id": "wHyAy8_7xGUv",
        "outputId": "378bbe68-c27e-4117-9308-6d71b7060f8f"
      },
      "execution_count": null,
      "outputs": [
        {
          "output_type": "stream",
          "name": "stdout",
          "text": [
            "People without higher education but earning > 50K is 3178\n"
          ]
        }
      ]
    },
    {
      "cell_type": "markdown",
      "source": [
        "## Age statistics for each education type"
      ],
      "metadata": {
        "id": "7eAT5y9005_5"
      }
    },
    {
      "cell_type": "code",
      "source": [
        "grouped_by_age = adult.groupby(\"education\") [\"age\"].describe()\n",
        "print(grouped_by_age)"
      ],
      "metadata": {
        "colab": {
          "base_uri": "https://localhost:8080/"
        },
        "id": "cvDCZpUP09hD",
        "outputId": "5dafbe6a-d5df-458c-83bc-18fcf1eae04e"
      },
      "execution_count": null,
      "outputs": [
        {
          "output_type": "stream",
          "name": "stdout",
          "text": [
            "               count       mean        std   min   25%   50%   75%   max\n",
            "education                                                               \n",
            "10th           820.0  37.897561  16.225795  17.0  23.0  36.0  52.0  90.0\n",
            "11th          1048.0  32.363550  15.089307  17.0  18.0  28.5  43.0  90.0\n",
            "12th           377.0  32.013263  14.373710  17.0  19.0  28.0  41.0  79.0\n",
            "1st-4th        151.0  44.622517  14.929051  19.0  33.0  44.0  56.0  81.0\n",
            "5th-6th        288.0  41.649306  14.754622  17.0  28.0  41.0  53.0  82.0\n",
            "7th-8th        557.0  47.631957  15.737479  17.0  34.0  49.0  60.0  90.0\n",
            "9th            455.0  40.303297  15.335754  17.0  28.0  38.0  53.0  90.0\n",
            "Assoc-acdm    1008.0  37.286706  10.509755  19.0  29.0  36.0  44.0  90.0\n",
            "Assoc-voc     1307.0  38.246366  11.181253  19.0  30.0  37.0  45.0  84.0\n",
            "Bachelors     5044.0  38.641554  11.577566  19.0  29.0  37.0  46.0  90.0\n",
            "Doctorate      375.0  47.130667  11.471727  24.0  39.0  47.0  54.0  80.0\n",
            "HS-grad       9840.0  38.640955  13.067730  17.0  28.0  37.0  48.0  90.0\n",
            "Masters       1627.0  43.740012  10.735356  18.0  36.0  43.0  50.0  90.0\n",
            "Preschool       45.0  41.288889  15.175672  19.0  30.0  40.0  53.0  75.0\n",
            "Prof-school    542.0  44.249077  11.428098  25.0  36.0  43.0  50.0  90.0\n",
            "Some-college  6678.0  36.135370  13.073528  17.0  25.0  35.0  45.0  90.0\n"
          ]
        }
      ]
    },
    {
      "cell_type": "markdown",
      "source": [
        "## The salaries of married and unmarried men\n",
        "\n",
        "###### The count of married men with salaries >50K is much higher than the count of unmarried men"
      ],
      "metadata": {
        "id": "ScOTuinT13Tq"
      }
    },
    {
      "cell_type": "code",
      "source": [
        "married_men = adult[(adult[\"sex\"] == \"Male\") & (adult[\"marital-status\"].str.startswith(\"Married\"))]\n",
        "\n",
        "unmarried_men = adult[(adult[\"sex\"] == \"Male\") & (~adult[\"marital-status\"].str.startswith(\"Married\"))]\n",
        "\n",
        "pivot_table_married = married_men.pivot_table(\n",
        "    values=\"sex\", index=\"salary\", aggfunc=\"count\", observed=False\n",
        ")\n",
        "print(f\"The salaries of married men \\n{pivot_table_married}\")\n",
        "\n",
        "pivot_table_unmarried = unmarried_men.pivot_table(\n",
        "    values=\"sex\", index=\"salary\", aggfunc=\"count\", observed=False\n",
        ")\n",
        "print(f\"\\nThe salaries of unmarried men \\n{pivot_table_unmarried}\")"
      ],
      "metadata": {
        "colab": {
          "base_uri": "https://localhost:8080/"
        },
        "id": "by1_ad_A2A94",
        "outputId": "f0391bc6-162b-4f5e-f555-81e7abe1a8c4"
      },
      "execution_count": null,
      "outputs": [
        {
          "output_type": "stream",
          "name": "stdout",
          "text": [
            "The salaries of married men \n",
            "         sex\n",
            "salary      \n",
            "<=50K   7052\n",
            ">50K    5723\n",
            "\n",
            "The salaries of unmarried men \n",
            "         sex\n",
            "salary      \n",
            "<=50K   6932\n",
            ">50K     673\n"
          ]
        }
      ]
    },
    {
      "cell_type": "markdown",
      "source": [
        "## The maximum number of hours a person works per week"
      ],
      "metadata": {
        "id": "2fJC9Ia07UA1"
      }
    },
    {
      "cell_type": "code",
      "source": [
        "max_hours_per_week = adult[\"hours-per-week\"].max()\n",
        "\n",
        "people_work_max_hours = adult[adult[\"hours-per-week\"] == max_hours_per_week].value_counts().sum()\n",
        "\n",
        "print(f\"The maximum hours worked per week: {max_hours_per_week}\")\n",
        "print(f\"Number of people working {max_hours_per_week} hours per week: {people_work_max_hours}\")"
      ],
      "metadata": {
        "colab": {
          "base_uri": "https://localhost:8080/"
        },
        "id": "JD-jLTfA7gg8",
        "outputId": "c2935ccf-f333-4344-b46c-7e65ca59c143"
      },
      "execution_count": null,
      "outputs": [
        {
          "output_type": "stream",
          "name": "stdout",
          "text": [
            "The maximum hours worked per week: 99\n",
            "Number of people working 99 hours per week: 78\n"
          ]
        }
      ]
    }
  ]
}
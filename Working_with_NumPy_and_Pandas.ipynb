{
  "nbformat": 4,
  "nbformat_minor": 0,
  "metadata": {
    "colab": {
      "provenance": [],
      "authorship_tag": "ABX9TyMjF+aUY6xksKrQlEwkEZfS",
      "include_colab_link": true
    },
    "kernelspec": {
      "name": "python3",
      "display_name": "Python 3"
    },
    "language_info": {
      "name": "python"
    }
  },
  "cells": [
    {
      "cell_type": "markdown",
      "metadata": {
        "id": "view-in-github",
        "colab_type": "text"
      },
      "source": [
        "<a href=\"https://colab.research.google.com/github/kkarinakomkova/python-projects/blob/main/Working_with_NumPy_and_Pandas.ipynb\" target=\"_parent\"><img src=\"https://colab.research.google.com/assets/colab-badge.svg\" alt=\"Open In Colab\"/></a>"
      ]
    },
    {
      "cell_type": "code",
      "execution_count": null,
      "metadata": {
        "colab": {
          "base_uri": "https://localhost:8080/"
        },
        "id": "SH-O4cvK9lmy",
        "outputId": "27881a13-2d48-4e24-86c6-bbfb68cbf7d7"
      },
      "outputs": [
        {
          "output_type": "stream",
          "name": "stdout",
          "text": [
            "Drive already mounted at /content/drive; to attempt to forcibly remount, call drive.mount(\"/content/drive\", force_remount=True).\n",
            "\n",
            "Average age and standard deviation of age for people earning >50K: \n",
            "std     10.269633\n",
            "mean    43.959110\n",
            "Name: age, dtype: float64\n",
            "\n",
            "Average age and standard deviation of age for people earning <=50K: \n",
            "std     13.134665\n",
            "mean    38.437902\n",
            "Name: age, dtype: float64\n"
          ]
        }
      ],
      "source": [
        "from google.colab import drive\n",
        "drive.mount('/content/drive')\n",
        "\n",
        "import pandas as pd\n",
        "import os\n",
        "\n",
        "file_path = '/content/drive/MyDrive/homework/adult.csv'\n",
        "adult = pd.read_csv(file_path)\n",
        "\n",
        "# Видаляю рядки з ?\n",
        "adult = adult[adult != '?'].dropna()\n",
        "\n",
        "# середнє значення та стандартне відхилення віку для людей, які заробляють > 50 тис\n",
        "age_stats_high_salary = adult[adult[\"salary\"] == \">50K\"] [\"age\"].agg([\"std\", \"mean\"])\n",
        "print(f\"\\nAverage age and standard deviation of age for people earning >50K: \\n{age_stats_high_salary}\")\n",
        "\n",
        "# середнє значення та стандартне відхилення віку для людей, які заробляють <= 50 тис\n",
        "age_stats_lower_salary = adult[adult[\"salary\"] <= \">50K\"] [\"age\"].agg([\"std\", \"mean\"])\n",
        "print(f\"\\nAverage age and standard deviation of age for people earning <=50K: \\n{age_stats_lower_salary}\")"
      ]
    },
    {
      "cell_type": "markdown",
      "source": [
        "###### Аналізуючи результат моїх обчислень роблю такі висновки:\n",
        "\n",
        "\n",
        "*   Середній вік людей, які отримують більше 50тисяч, старший ніж людей з нижчою зарплатою.\n",
        "Це може вказувати на те, що люди з віком отримують більше досвіду, навичок та кар'єрних можливостей, що дає змогу їм отримувати вищу зарплатню.\n",
        "*   Стандартне відхилення у групі людей з вищою зарплатнею нижче, це говорить про те, що вікова категорія зосереджена приблизно навколо середнього віку.\n",
        "У групі людей з нижчою зарплатнею цей показник вижчий, тут може бути більше молодих людей, а також людей старшого віку.\n",
        "\n"
      ],
      "metadata": {
        "id": "EuIX596_Dru_"
      }
    }
  ]
}